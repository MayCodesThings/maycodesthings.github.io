{
 "cells": [
  {
   "cell_type": "markdown",
   "id": "8f0668dc",
   "metadata": {},
   "source": [
    "# Project 2: Funds Series Strategy Corrections\n",
    "This Jupyter notebook includes Python scripts and logic used to clean, group, and correct fund strategies across related fund series.\n",
    "\n",
    "The notebook performs tasks such as:\n",
    "- Extracting series names from fund titles using regex\n",
    "- Grouping related funds (e.g., Fund I, II, III)\n",
    "- Assigning the most common strategy to each group\n",
    "- Exporting the grouped series and final strategy-corrected fund list\n",
    "\n",
    "Each section is labeled by step for clarity.\n"
   ]
  },
  {
   "cell_type": "markdown",
   "id": "ff0a993f",
   "metadata": {},
   "source": [
    "## Step 1: Load fund data"
   ]
  },
  {
   "cell_type": "code",
   "execution_count": null,
   "id": "32c311b7",
   "metadata": {},
   "outputs": [],
   "source": [
    "import pandas as pd\n",
    "import re\n",
    "from collections import Counter\n",
    "\n",
    "# Load dataset\n",
    "df = pd.read_csv(\"funds_with_strategies.csv\")\n",
    "df.columns = df.columns.str.strip().str.lower()\n",
    "df.head()"
   ]
  },
  {
   "cell_type": "markdown",
   "id": "eaa8be86",
   "metadata": {},
   "source": [
    "## Step 2: Extract Series Names\n",
    "Use regex to remove legal suffixes, numbers, and common fund terms to isolate the base series name."
   ]
  },
  {
   "cell_type": "code",
   "execution_count": null,
   "id": "5b11589a",
   "metadata": {},
   "outputs": [],
   "source": [
    "def extract_series_name(name):\n",
    "    name = re.sub(r'\\b(I{1,3}|IV|V|VI|VII|VIII|IX|X|XI|LP|Fund|Series|Capital|Fund I LLC)\\b', '', name, flags=re.IGNORECASE)\n",
    "    name = re.sub(r'\\b\\d+\\b', '', name)\n",
    "    name = re.sub(r'\\s+', ' ', name)\n",
    "    return name.strip().lower()\n",
    "\n",
    "df[\"series_name\"] = df[\"fund_name\"].apply(extract_series_name)\n",
    "df[[\"fund_name\", \"series_name\"]].head()"
   ]
  },
  {
   "cell_type": "markdown",
   "id": "4b125ec0",
   "metadata": {},
   "source": [
    "## Step 3: Apply Corrected Strategy\n",
    "For each series group, assign the most common `original_strategy` as the `corrected_strategy`."
   ]
  },
  {
   "cell_type": "code",
   "execution_count": null,
   "id": "da4725c9",
   "metadata": {},
   "outputs": [],
   "source": [
    "def apply_correction(group):\n",
    "    most_common = Counter(group[\"original_strategy\"]).most_common(1)[0][0]\n",
    "    group[\"corrected_strategy\"] = most_common\n",
    "    return group\n",
    "\n",
    "df = df.groupby(\"series_name\", group_keys=False).apply(apply_correction)\n",
    "df[[\"fund_name\", \"original_strategy\", \"corrected_strategy\"]].head()"
   ]
  },
  {
   "cell_type": "markdown",
   "id": "40803136",
   "metadata": {},
   "source": [
    "## Step 4: Export Grouped Fund Series"
   ]
  },
  {
   "cell_type": "code",
   "execution_count": null,
   "id": "9bf451df",
   "metadata": {},
   "outputs": [],
   "source": [
    "group_df = df.groupby(\"series_name\")[\"fund_name\"].apply(lambda x: \"; \".join(sorted(x))).reset_index()\n",
    "group_df.to_csv(\"step1_fund_series_groups.csv\", index=False)\n",
    "group_df.head()"
   ]
  },
  {
   "cell_type": "markdown",
   "id": "e22abed4",
   "metadata": {},
   "source": [
    "## Step 5: Export Final Output with Corrected Strategies"
   ]
  },
  {
   "cell_type": "code",
   "execution_count": null,
   "id": "8dc7e4d6",
   "metadata": {},
   "outputs": [],
   "source": [
    "df.to_csv(\"funds_with_corrected_strategy.csv\", index=False)\n",
    "df.head()"
   ]
  },
  {
   "cell_type": "markdown",
   "id": "274ae67c",
   "metadata": {},
   "source": [
    "## ✅ Summary\n",
    "- Grouped similar funds by series name\n",
    "- Applied consistent strategies using mode logic\n",
    "- Exported clean files for analysis or reporting"
   ]
  }
 ],
 "metadata": {},
 "nbformat": 4,
 "nbformat_minor": 5
}
