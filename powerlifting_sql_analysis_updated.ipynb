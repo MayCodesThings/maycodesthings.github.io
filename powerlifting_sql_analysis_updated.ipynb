{
 "cells": [
  {
   "cell_type": "markdown",
   "id": "20908387",
   "metadata": {},
   "source": [
    "# 🏋️ Powerlifting SQL Analysis\n",
    "\n",
    "A SQL-based analysis of powerlifting data, focusing on lifter performance, lift types, age trends, and rankings."
   ]
  },
  {
   "cell_type": "markdown",
   "id": "a3ef03aa",
   "metadata": {},
   "source": [
    "### 1. Average Amount Lifted by Lift Type"
   ]
  },
  {
   "cell_type": "code",
   "execution_count": null,
   "id": "5c50911e",
   "metadata": {},
   "outputs": [],
   "source": [
    "SELECT \n",
    "    `Lift Type`,\n",
    "    AVG(`Amount Lifted (kg)`) AS avg_lift\n",
    "FROM \n",
    "    powerlifting_dataset\n",
    "GROUP BY \n",
    "    `Lift Type`;"
   ]
  },
  {
   "cell_type": "markdown",
   "id": "27a0dce3",
   "metadata": {},
   "source": [
    "### 2. Heaviest Lift Per Lifter"
   ]
  },
  {
   "cell_type": "code",
   "execution_count": null,
   "id": "85f8fb63",
   "metadata": {},
   "outputs": [],
   "source": [
    "SELECT \n",
    "    `Lifter Name`, \n",
    "    MAX(`Amount Lifted (kg)`) AS max_amount_lifted\n",
    "FROM \n",
    "    powerlifting_dataset\n",
    "GROUP BY \n",
    "    `Lifter Name`;"
   ]
  },
  {
   "cell_type": "markdown",
   "id": "ebc91fef",
   "metadata": {},
   "source": [
    "### 3. Lifter with the Highest Total Amount Lifted"
   ]
  },
  {
   "cell_type": "code",
   "execution_count": null,
   "id": "bfc34b70",
   "metadata": {},
   "outputs": [],
   "source": [
    "SELECT \n",
    "    `Lifter Name`, \n",
    "    SUM(`Amount Lifted (kg)`) AS total_amount_lifted\n",
    "FROM \n",
    "    powerlifting_dataset\n",
    "GROUP BY \n",
    "    `Lifter Name`\n",
    "ORDER BY \n",
    "    total_amount_lifted DESC\n",
    "LIMIT 1;"
   ]
  },
  {
   "cell_type": "markdown",
   "id": "fcae1324",
   "metadata": {},
   "source": [
    "### 4. Total Lifts Per Weight Class"
   ]
  },
  {
   "cell_type": "code",
   "execution_count": null,
   "id": "ce2f02ce",
   "metadata": {},
   "outputs": [],
   "source": [
    "SELECT \n",
    "    COUNT(`Amount Lifted (kg)`) AS total_lifted, \n",
    "    `Weight Class`\n",
    "FROM \n",
    "    powerlifting_dataset\n",
    "GROUP BY \n",
    "    `Weight Class`;"
   ]
  },
  {
   "cell_type": "markdown",
   "id": "7aeec67c",
   "metadata": {},
   "source": [
    "### 5. Lifters Who Performed More Than One Lift Type"
   ]
  },
  {
   "cell_type": "code",
   "execution_count": null,
   "id": "5463f5b7",
   "metadata": {},
   "outputs": [],
   "source": [
    "SELECT \n",
    "    `Lifter Name`\n",
    "FROM \n",
    "    powerlifting_dataset\n",
    "GROUP BY \n",
    "    `Lifter Name`\n",
    "HAVING \n",
    "    COUNT(DISTINCT `Lift Type`) > 1;"
   ]
  },
  {
   "cell_type": "markdown",
   "id": "89d8d6b4",
   "metadata": {},
   "source": [
    "### 6. Lifters Who Improved Over Time"
   ]
  },
  {
   "cell_type": "code",
   "execution_count": null,
   "id": "04e478f9",
   "metadata": {},
   "outputs": [],
   "source": [
    "WITH pf AS (\n",
    "    SELECT \n",
    "        `Lifter Name`, \n",
    "        `Age`, \n",
    "        `Lift Type`, \n",
    "        `Amount Lifted (kg)` AS amount, \n",
    "        LAG(`Amount Lifted (kg)`) OVER (\n",
    "            PARTITION BY `Lifter Name`, `Lift Type`\n",
    "            ORDER BY `Age`\n",
    "        ) AS previous_lift\n",
    "    FROM \n",
    "        powerlifting_dataset\n",
    ") \n",
    "SELECT * \n",
    "FROM pf \n",
    "WHERE \n",
    "    amount > previous_lift;"
   ]
  },
  {
   "cell_type": "markdown",
   "id": "0bf3953b",
   "metadata": {},
   "source": [
    "### 7. Top Lifter by Lift Type"
   ]
  },
  {
   "cell_type": "code",
   "execution_count": null,
   "id": "82c366e1",
   "metadata": {},
   "outputs": [],
   "source": [
    "WITH rank_lift AS (\n",
    "    SELECT \n",
    "        `Lifter Name`, \n",
    "        `Weight Class`, \n",
    "        `Lift Type`, \n",
    "        `Amount Lifted (kg)` AS Amount, \n",
    "        ROW_NUMBER () OVER (\n",
    "            PARTITION BY `Lift Type` \n",
    "            ORDER BY `Amount Lifted (kg)` DESC \n",
    "        ) AS row_nm\n",
    "    FROM \n",
    "        powerlifting_dataset\n",
    ") \n",
    "SELECT \n",
    "    `Lifter Name`, \n",
    "    `Weight Class`, \n",
    "    `Lift Type`,\n",
    "    Amount\n",
    "FROM rank_lift\n",
    "WHERE row_nm = 1;"
   ]
  },
  {
   "cell_type": "markdown",
   "id": "aa5443b1",
   "metadata": {},
   "source": [
    "### 8. Average Lifted by Age Group"
   ]
  },
  {
   "cell_type": "code",
   "execution_count": null,
   "id": "785d493a",
   "metadata": {},
   "outputs": [],
   "source": [
    "SELECT \n",
    "    CONCAT(FLOOR(Age / 10) * 10, '-' ,FLOOR(Age / 10) * 10 + 9) AS age_group, \n",
    "    ROUND(AVG(`Amount Lifted (kg)`)) AS avg_lifted\n",
    "FROM \n",
    "    powerlifting_dataset\n",
    "GROUP BY\n",
    "    age_group\n",
    "ORDER BY \n",
    "    age_group;"
   ]
  },
  {
   "cell_type": "markdown",
   "id": "ccb7f013",
   "metadata": {},
   "source": [
    "### 9. Normalize Weight Class and Explore Correlation"
   ]
  },
  {
   "cell_type": "code",
   "execution_count": null,
   "id": "026699c0",
   "metadata": {},
   "outputs": [],
   "source": [
    "SELECT \n",
    "    REPLACE(`Weight Class`, 'kg', '') AS weight_class_kg, \n",
    "    `Amount Lifted (kg)`\n",
    "FROM \n",
    "    powerlifting_dataset\n",
    "WHERE \n",
    "    `Weight Class` IS NOT NULL\n",
    "    AND `Amount Lifted (kg)` IS NOT NULL;"
   ]
  },
  {
   "cell_type": "markdown",
   "id": "f015bee2",
   "metadata": {},
   "source": [
    "### 10. Global Lift Ranking"
   ]
  },
  {
   "cell_type": "code",
   "execution_count": null,
   "id": "f982f703",
   "metadata": {},
   "outputs": [],
   "source": [
    "SELECT \n",
    "    `Lifter Name`, \n",
    "    `Lift Type`, \n",
    "    `Amount Lifted (kg)`, \n",
    "    RANK () OVER (\n",
    "        ORDER BY `Amount Lifted (kg)` DESC\n",
    "    ) AS `rank` \n",
    "FROM \n",
    "    powerlifting_dataset;"
   ]
  }
 ],
 "metadata": {},
 "nbformat": 4,
 "nbformat_minor": 5
}
