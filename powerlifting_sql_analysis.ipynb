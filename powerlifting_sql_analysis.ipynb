{
 "cells": [
  {
   "cell_type": "markdown",
   "id": "4d9eea43",
   "metadata": {},
   "source": [
    "# 🏋️ Powerlifting SQL Analysis\n",
    "\n",
    "In this notebook, we explore a powerlifting dataset using SQL. Each query answers a specific question related to performance, ranking, and trends."
   ]
  },
  {
   "cell_type": "markdown",
   "id": "92703ae8",
   "metadata": {},
   "source": [
    "### 1. Average Amount Lifted by Lift Type"
   ]
  },
  {
   "cell_type": "code",
   "execution_count": null,
   "id": "32e9a648",
   "metadata": {},
   "outputs": [],
   "source": [
    "SELECT \n",
    "    `Lift Type`,\n",
    "    AVG(`Amount Lifted (kg)`) AS avg_lift\n",
    "FROM \n",
    "    powerlifting_dataset\n",
    "GROUP BY \n",
    "    `Lift Type`;"
   ]
  },
  {
   "cell_type": "markdown",
   "id": "14751dd2",
   "metadata": {},
   "source": [
    "### 2. Heaviest Lift Per Lifter"
   ]
  },
  {
   "cell_type": "code",
   "execution_count": null,
   "id": "27288fdd",
   "metadata": {},
   "outputs": [],
   "source": [
    "SELECT \n",
    "    `Lifter Name`, \n",
    "    MAX(`Amount Lifted (kg)`) AS max_amount_lifted\n",
    "FROM \n",
    "    powerlifting_dataset\n",
    "GROUP BY \n",
    "    `Lifter Name`;"
   ]
  },
  {
   "cell_type": "markdown",
   "id": "c1acfb9f",
   "metadata": {},
   "source": [
    "### 3. Lifter with the Highest Total Amount Lifted"
   ]
  },
  {
   "cell_type": "code",
   "execution_count": null,
   "id": "7562dd34",
   "metadata": {},
   "outputs": [],
   "source": [
    "SELECT \n",
    "    `Lifter Name`, \n",
    "    SUM(`Amount Lifted (kg)`) AS total_amount_lifted\n",
    "FROM \n",
    "    powerlifting_dataset\n",
    "GROUP BY \n",
    "    `Lifter Name`\n",
    "ORDER BY \n",
    "    total_amount_lifted DESC\n",
    "LIMIT 1;"
   ]
  },
  {
   "cell_type": "markdown",
   "id": "38645383",
   "metadata": {},
   "source": [
    "### 4. Total Lifts Per Weight Class"
   ]
  },
  {
   "cell_type": "code",
   "execution_count": null,
   "id": "71f649f6",
   "metadata": {},
   "outputs": [],
   "source": [
    "SELECT \n",
    "    COUNT(`Amount Lifted (kg)`) AS total_lifted, \n",
    "    `Weight Class`\n",
    "FROM \n",
    "    powerlifting_dataset\n",
    "GROUP BY \n",
    "    `Weight Class`;"
   ]
  },
  {
   "cell_type": "markdown",
   "id": "addc1c77",
   "metadata": {},
   "source": [
    "### 5. Lifters Who Performed More Than One Lift Type"
   ]
  },
  {
   "cell_type": "code",
   "execution_count": null,
   "id": "3ebcda61",
   "metadata": {},
   "outputs": [],
   "source": [
    "SELECT \n",
    "    `Lifter Name`\n",
    "FROM \n",
    "    powerlifting_dataset\n",
    "GROUP BY \n",
    "    `Lifter Name`\n",
    "HAVING \n",
    "    COUNT(DISTINCT `Lift Type`) > 1;"
   ]
  },
  {
   "cell_type": "markdown",
   "id": "29d9015a",
   "metadata": {},
   "source": [
    "### 6. Lifters Who Improved Over Time"
   ]
  },
  {
   "cell_type": "code",
   "execution_count": null,
   "id": "c284ba51",
   "metadata": {},
   "outputs": [],
   "source": [
    "WITH pf AS (\n",
    "    SELECT \n",
    "        `Lifter Name`, \n",
    "        `Age`, \n",
    "        `Lift Type`, \n",
    "        `Amount Lifted (kg)` AS amount, \n",
    "        LAG(`Amount Lifted (kg)`) OVER (\n",
    "            PARTITION BY `Lifter Name`, `Lift Type`\n",
    "            ORDER BY `Age`\n",
    "        ) AS previous_lift\n",
    "    FROM \n",
    "        powerlifting_dataset\n",
    ") \n",
    "SELECT * \n",
    "FROM pf \n",
    "WHERE \n",
    "    amount > previous_lift;"
   ]
  },
  {
   "cell_type": "markdown",
   "id": "07018bdd",
   "metadata": {},
   "source": [
    "### 7. Top Lifter by Lift Type"
   ]
  },
  {
   "cell_type": "code",
   "execution_count": null,
   "id": "83688dad",
   "metadata": {},
   "outputs": [],
   "source": [
    "WITH rank_lift AS (\n",
    "    SELECT \n",
    "        `Lifter Name`, \n",
    "        `Weight Class`, \n",
    "        `Lift Type`, \n",
    "        `Amount Lifted (kg)` AS Amount, \n",
    "        ROW_NUMBER () OVER (\n",
    "            PARTITION BY `Lift Type` \n",
    "            ORDER BY `Amount Lifted (kg)` DESC \n",
    "        ) AS row_nm\n",
    "    FROM \n",
    "        powerlifting_dataset\n",
    ") \n",
    "SELECT \n",
    "    `Lifter Name`, \n",
    "    `Weight Class`, \n",
    "    `Lift Type`,\n",
    "    Amount\n",
    "FROM rank_lift\n",
    "WHERE row_nm = 1;"
   ]
  },
  {
   "cell_type": "markdown",
   "id": "2cc867ec",
   "metadata": {},
   "source": [
    "### 8. Average Lifted by Age Group"
   ]
  },
  {
   "cell_type": "code",
   "execution_count": null,
   "id": "f0aad4e1",
   "metadata": {},
   "outputs": [],
   "source": [
    "SELECT \n",
    "    CONCAT(FLOOR(Age / 10) * 10, '-' ,FLOOR(Age / 10) * 10 + 9) AS age_group, \n",
    "    ROUND(AVG(`Amount Lifted (kg)`)) AS avg_lifted\n",
    "FROM \n",
    "    powerlifting_dataset\n",
    "GROUP BY\n",
    "    age_group\n",
    "ORDER BY \n",
    "    age_group;"
   ]
  },
  {
   "cell_type": "markdown",
   "id": "91f6936a",
   "metadata": {},
   "source": [
    "### 9. Normalize Weight Class and Explore Correlation"
   ]
  },
  {
   "cell_type": "code",
   "execution_count": null,
   "id": "b17d97e8",
   "metadata": {},
   "outputs": [],
   "source": [
    "SELECT \n",
    "    REPLACE(`Weight Class`, 'kg', '') AS weight_class_kg, \n",
    "    `Amount Lifted (kg)`\n",
    "FROM \n",
    "    powerlifting_dataset\n",
    "WHERE \n",
    "    `Weight Class` IS NOT NULL\n",
    "    AND `Amount Lifted (kg)` IS NOT NULL;"
   ]
  },
  {
   "cell_type": "markdown",
   "id": "e93cd724",
   "metadata": {},
   "source": [
    "### 10. Global Lift Ranking"
   ]
  },
  {
   "cell_type": "code",
   "execution_count": null,
   "id": "5571b419",
   "metadata": {},
   "outputs": [],
   "source": [
    "SELECT \n",
    "    `Lifter Name`, \n",
    "    `Lift Type`, \n",
    "    `Amount Lifted (kg)`, \n",
    "    RANK () OVER (\n",
    "        ORDER BY `Amount Lifted (kg)` DESC\n",
    "    ) AS `rank` \n",
    "FROM \n",
    "    powerlifting_dataset;"
   ]
  }
 ],
 "metadata": {},
 "nbformat": 4,
 "nbformat_minor": 5
}
